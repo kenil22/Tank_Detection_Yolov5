{
  "cells": [
    {
      "cell_type": "code",
      "execution_count": 1,
      "metadata": {
        "id": "D_wSSiYHR393"
      },
      "outputs": [],
      "source": [
        "import os\n",
        "import shutil\n",
        "import random"
      ]
    },
    {
      "cell_type": "markdown",
      "source": [
        "Replace **your-specific-url** with **Roboflow-URL**"
      ],
      "metadata": {
        "id": "TNIivJL_ub_J"
      }
    },
    {
      "cell_type": "code",
      "source": [
        "!wget https://app.roboflow.com/ds/<your-specific-url>\n",
        "!unzip /content/<your-specific-url>"
      ],
      "metadata": {
        "id": "dNhtgstKtbFh"
      },
      "execution_count": null,
      "outputs": []
    },
    {
      "cell_type": "code",
      "execution_count": null,
      "metadata": {
        "id": "iAsrn0HBe15l"
      },
      "outputs": [],
      "source": [
        "!git clone https://github.com/ultralytics/yolov5"
      ]
    },
    {
      "cell_type": "code",
      "execution_count": null,
      "metadata": {
        "colab": {
          "base_uri": "https://localhost:8080/"
        },
        "id": "_8efLrEje-VU",
        "outputId": "02f3ca50-5383-4ab0-e3c6-f83085525520"
      },
      "outputs": [
        {
          "output_type": "stream",
          "name": "stdout",
          "text": [
            "/content/yolov5\n"
          ]
        }
      ],
      "source": [
        "%cd yolov5/\n"
      ]
    },
    {
      "cell_type": "code",
      "execution_count": null,
      "metadata": {
        "id": "GL6LdJTyfK1F"
      },
      "outputs": [],
      "source": [
        "!pip install -r requirements.txt"
      ]
    },
    {
      "cell_type": "code",
      "execution_count": null,
      "metadata": {
        "id": "TSCxj2Y5fQQF"
      },
      "outputs": [],
      "source": [
        "#Yolov5 small weights\n",
        "# !wget https://github.com/ultralytics/yolov5/releases/download/v6.0/yolov5s.pt\n",
        "#Yolov5 Medium weights\n",
        "# !wget https://github.com/ultralytics/yolov5/releases/download/v6.1/yolov5m.pt"
      ]
    },
    {
      "cell_type": "markdown",
      "source": [
        "Training\n"
      ],
      "metadata": {
        "id": "35eEDjfuJ1gb"
      }
    },
    {
      "cell_type": "code",
      "execution_count": null,
      "metadata": {
        "id": "e6bOLrMFgo7m"
      },
      "outputs": [],
      "source": [
        "!python train.py --img 416 --batch 8 --epochs 30 --data /content/drive/MyDrive/AnnotatedData/dataset.yaml --weights /content/yolov5/yolov5m.pt --nosave --cache"
      ]
    },
    {
      "cell_type": "markdown",
      "source": [
        "Inferencing\n"
      ],
      "metadata": {
        "id": "_BIZUSAAJ49l"
      }
    },
    {
      "cell_type": "code",
      "execution_count": null,
      "metadata": {
        "id": "ifmYVN8EQhWz"
      },
      "outputs": [],
      "source": [
        "!python detect.py --source /content/parking1.jpg  --weights /content/yolov5/runs/train/exp6/weights/last.pt --img 416 --save-txt --save-conf"
      ]
    },
    {
      "cell_type": "code",
      "source": [],
      "metadata": {
        "id": "1VT3_Pjb4uT7"
      },
      "execution_count": null,
      "outputs": []
    }
  ],
  "metadata": {
    "colab": {
      "provenance": []
    },
    "kernelspec": {
      "display_name": "Python 3",
      "name": "python3"
    },
    "language_info": {
      "name": "python"
    }
  },
  "nbformat": 4,
  "nbformat_minor": 0
}